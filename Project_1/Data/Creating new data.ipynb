{
 "cells": [
  {
   "cell_type": "code",
   "execution_count": 2,
   "id": "bcddbcb4",
   "metadata": {},
   "outputs": [],
   "source": [
    "import matplotlib.pyplot as plt\n",
    "import numpy as np\n",
    "import keras\n",
    "import tensorflow as tf\n"
   ]
  },
  {
   "cell_type": "code",
   "execution_count": 3,
   "id": "2084a507",
   "metadata": {},
   "outputs": [],
   "source": [
    "# number of data initial N=4000\n",
    "N=4000\n",
    "# size of each sample\n",
    "L=2 \n",
    "# box size\n",
    "B=100"
   ]
  },
  {
   "cell_type": "code",
   "execution_count": 21,
   "id": "f6bc53c1",
   "metadata": {},
   "outputs": [],
   "source": [
    "import numpy as np\n",
    "\n",
    "# a nonlinear function of a 2d array x\n",
    "\n",
    "def create_data(N=4000, B=100, c='c'):\n",
    "    if c=='a':\n",
    "        x = (np.random.random((N,2))-0.5)*B\n",
    "        y = ((x[:,0]>-20) & (x[:,1]>-40) and (x[:,0]+x[:,1] < 40)).astype(int)\n",
    "    elif c=='b':\n",
    "        x = (np.random.random((N,2))-0.5)*B\n",
    "        y = ((np.sign(x.sum(axis=1))*np.sign(x[:,0])) *np.cos(np.linalg.norm(x, axis=1)/(2*np.pi))>0).astype(int)\n",
    "    elif c=='c':\n",
    "        r, R = B/5, B/5 +B/10\n",
    "        rand = np.random.random(N)\n",
    "        ra = (np.array([r if rand[i] < 0.5 else R for i in range(N)]) + (np.random.random(N)-0.5)*B/10)\n",
    "        alpha = 2*np.pi*np.random.random(N)\n",
    "        x = np.empty((N,2))\n",
    "        x[:,0] = np.cos(alpha)*ra\n",
    "        x[:,1] = np.sin(alpha)*ra\n",
    "        y = (rand < 0.5).astype(int)\n",
    "    return x, y\n",
    "\n",
    "def filename(s,TYPE=2):\n",
    "    return \"./DATA/\"+s+\"-for-DNN-\"+str(TYPE)+\".dat\""
   ]
  },
  {
   "cell_type": "code",
   "execution_count": 24,
   "id": "9791f02e",
   "metadata": {},
   "outputs": [],
   "source": [
    "# random seed for reproducibility\n",
    "np.random.seed(12345)\n",
    "x_new,y_new = create_data(N=4000, B=100, c='c')"
   ]
  },
  {
   "cell_type": "code",
   "execution_count": 25,
   "id": "7f5e10fd",
   "metadata": {},
   "outputs": [],
   "source": [
    "np.savetxt(\"new_data\",x)\n",
    "np.savetxt(\"new_labels\",y,fmt=\"%d\")"
   ]
  },
  {
   "cell_type": "code",
   "execution_count": null,
   "id": "625e18a2",
   "metadata": {},
   "outputs": [],
   "source": []
  }
 ],
 "metadata": {
  "kernelspec": {
   "display_name": "Python 3",
   "language": "python",
   "name": "python3"
  },
  "language_info": {
   "codemirror_mode": {
    "name": "ipython",
    "version": 3
   },
   "file_extension": ".py",
   "mimetype": "text/x-python",
   "name": "python",
   "nbconvert_exporter": "python",
   "pygments_lexer": "ipython3",
   "version": "3.8.8"
  }
 },
 "nbformat": 4,
 "nbformat_minor": 5
}
